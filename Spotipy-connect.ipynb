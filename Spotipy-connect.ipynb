{
 "cells": [
  {
   "cell_type": "code",
   "execution_count": 72,
   "metadata": {},
   "outputs": [],
   "source": [
    "# import spotify api for python\n",
    "import spotipy\n",
    "import spotipy.util as util\n",
    "from spotipy.oauth2 import SpotifyClientCredentials"
   ]
  },
  {
   "cell_type": "markdown",
   "metadata": {},
   "source": [
    "### Connect to Spotify API"
   ]
  },
  {
   "cell_type": "code",
   "execution_count": 2,
   "metadata": {},
   "outputs": [],
   "source": [
    "# credentials\n",
    "client_id= \"\"\n",
    "client_secret= \"\"\n",
    "redirect_uri='http://google.com/'"
   ]
  },
  {
   "cell_type": "code",
   "execution_count": 3,
   "metadata": {},
   "outputs": [],
   "source": [
    "# set scope\n",
    "username='1257375947'\n",
    "client_credentials_manager = SpotifyClientCredentials(client_id=client_id, client_secret=client_secret) \n",
    "scope = 'user-library-read playlist-read-private'\n",
    "try:\n",
    "    token = util.prompt_for_user_token(username, scope,client_id=client_id, client_secret=client_secret, redirect_uri=redirect_uri)  \n",
    "    sp=spotipy.Spotify(auth= token)\n",
    "except:\n",
    "    print('Token is not accesible for ' + username)"
   ]
  },
  {
   "cell_type": "markdown",
   "metadata": {},
   "source": [
    "### Pull Hip-Hop and Classical Playlist Data"
   ]
  },
  {
   "cell_type": "code",
   "execution_count": 47,
   "metadata": {},
   "outputs": [],
   "source": [
    "# get playlists\n",
    "songLibrary = sp.current_user_saved_tracks()\n",
    "# hip-hop playlists\n",
    "hh_playlist = sp.user_playlist('spotify', playlist_id='4ykrONBhOgPr4sMhAVCoPx') # Hip Hop Hits\n",
    "hh_playlist2 = sp.user_playlist('spotify', playlist_id='37i9dQZF1DX9s3cYAeKW5d') # Hip-Hop Work Out Mix\n",
    "hh_playlist3 = sp.user_playlist('spotify', playlist_id='37i9dQZF1DX6GwdWRQMQpq') # Feelin' Myself\n",
    "hh_playlist4 = sp.user_playlist('spotify', playlist_id='37i9dQZF1DX48TTZL62Yht') # Hip Hop Favourites\n",
    "hh_playlist5 = sp.user_playlist('spotify', playlist_id='37i9dQZF1DWUFmyho2wkQU') # Hip Hop Drive\n",
    "\n",
    "# classical playlists\n",
    "# cl_playlist = sp.user_playlist('spotify', playlist_id='37i9dQZF1DWWEJlAGA9gs0') # Classical Essentials\n",
    "cl_playlist2 = sp.user_playlist('spotify', playlist_id='37i9dQZF1DXd5zUwdn6lPb') # Classical Focus\n",
    "# cl_playlist3 = sp.user_playlist('spotify', playlist_id='37i9dQZF1DX4s3V2rTswzO') # Classical Romance\n",
    "cl_playlist4 = sp.user_playlist('spotify', playlist_id='37i9dQZF1DWV0gynK7G6pD') # Classical New Releases"
   ]
  },
  {
   "cell_type": "code",
   "execution_count": 48,
   "metadata": {},
   "outputs": [],
   "source": [
    "# get tracks\n",
    "def get_tracks(playlist):\n",
    "  tracks = playlist[\"tracks\"]\n",
    "  songs = tracks[\"items\"] \n",
    "  while tracks['next']:\n",
    "      tracks = sp.next(tracks)\n",
    "      for item in tracks[\"items\"]:\n",
    "          songs.append(item)\n",
    "  ids = [] \n",
    "  for i in range(len(songs)):\n",
    "      ids.append(songs[i]['track']['id'])\n",
    "  return(ids)"
   ]
  },
  {
   "cell_type": "code",
   "execution_count": 64,
   "metadata": {},
   "outputs": [],
   "source": [
    "# Hip-hop ids\n",
    "hh_ids = get_tracks(hh_playlist)\n",
    "hh_ids2 = get_tracks(hh_playlist2)\n",
    "hh_ids3 = get_tracks(hh_playlist3)\n",
    "hh_ids4 = get_tracks(hh_playlist4)\n",
    "hh_ids5 = get_tracks(hh_playlist5)\n",
    "\n",
    "hh_ids_all = hh_ids+hh_ids2+hh_ids3+hh_ids4+hh_ids5\n",
    "\n",
    "# Classical ids\n",
    "# cl_ids = get_tracks(cl_playlist)\n",
    "cl_ids2 = get_tracks(cl_playlist2)\n",
    "# cl_ids3 = get_tracks(cl_playlist3)\n",
    "cl_ids4 = get_tracks(cl_playlist4)\n",
    "\n",
    "cl_ids_all = cl_ids2+cl_ids4#+cl_ids3+cl_ids4"
   ]
  },
  {
   "cell_type": "code",
   "execution_count": 65,
   "metadata": {},
   "outputs": [],
   "source": [
    "# remove duplicates\n",
    "def keep_unique(test_list):\n",
    "    res = [] \n",
    "    for i in test_list: \n",
    "        if i not in res: \n",
    "            res.append(i)\n",
    "    return(res)"
   ]
  },
  {
   "cell_type": "code",
   "execution_count": 66,
   "metadata": {},
   "outputs": [
    {
     "name": "stdout",
     "output_type": "stream",
     "text": [
      "# of Hip-Hop tracks: 313\n",
      "# of Classical Tracks: 293\n"
     ]
    }
   ],
   "source": [
    "# remove duplicates and check length --trying to keep classes balanced\n",
    "hh_ids_uniq = keep_unique(hh_ids_all)\n",
    "print('# of Hip-Hop tracks:', len(hh_ids_uniq))\n",
    "cl_ids_uniq = keep_unique(cl_ids_all)\n",
    "print('# of Classical Tracks:', len(cl_ids_uniq))"
   ]
  },
  {
   "cell_type": "code",
   "execution_count": 67,
   "metadata": {},
   "outputs": [],
   "source": [
    "# get audio features\n",
    "def get_features(ids):\n",
    "  features = []\n",
    "  for i in range(0,len(ids),50):\n",
    "      audio_features = sp.audio_features(ids[i:i+50])\n",
    "      for track in audio_features:\n",
    "          features.append(track)\n",
    "          features[-1]['target'] = 1\n",
    "  return(features)"
   ]
  },
  {
   "cell_type": "code",
   "execution_count": 68,
   "metadata": {},
   "outputs": [],
   "source": [
    "# Hip-hop features\n",
    "hh_features = get_features(hh_ids_uniq)\n",
    "\n",
    "# Classical features\n",
    "cl_features = get_features(cl_ids_uniq)"
   ]
  },
  {
   "cell_type": "markdown",
   "metadata": {},
   "source": [
    "### Build dataframe and write to file"
   ]
  },
  {
   "cell_type": "code",
   "execution_count": 75,
   "metadata": {},
   "outputs": [],
   "source": [
    "import pandas as pd\n",
    "from sklearn.utils import shuffle"
   ]
  },
  {
   "cell_type": "code",
   "execution_count": 71,
   "metadata": {},
   "outputs": [],
   "source": [
    "# Add new 'genre' column with Hip_hop and Classical\n",
    "hh_features = pd.DataFrame(hh_features)\n",
    "hh_features['genre'] = 'Hip-Hop'\n",
    "\n",
    "cl_features = pd.DataFrame(cl_features)\n",
    "cl_features['genre'] = 'Classical'"
   ]
  },
  {
   "cell_type": "code",
   "execution_count": 73,
   "metadata": {},
   "outputs": [],
   "source": [
    "# make one dataframe and shuffle rows\n",
    "features = hh_features.append(cl_features)\n",
    "features = shuffle(features)"
   ]
  },
  {
   "cell_type": "code",
   "execution_count": 74,
   "metadata": {},
   "outputs": [],
   "source": [
    "# save to .csv file to use for analysis\n",
    "features.to_csv('track_data.csv', index=False)"
   ]
  }
 ],
 "metadata": {
  "kernelspec": {
   "display_name": "Python 3",
   "language": "python",
   "name": "python3"
  },
  "language_info": {
   "codemirror_mode": {
    "name": "ipython",
    "version": 3
   },
   "file_extension": ".py",
   "mimetype": "text/x-python",
   "name": "python",
   "nbconvert_exporter": "python",
   "pygments_lexer": "ipython3",
   "version": "3.7.4"
  }
 },
 "nbformat": 4,
 "nbformat_minor": 2
}
