{
 "cells": [
  {
   "cell_type": "markdown",
   "metadata": {},
   "source": [
    "# Machine Learning Project"
   ]
  },
  {
   "cell_type": "code",
   "execution_count": 1,
   "metadata": {
    "colab": {},
    "colab_type": "code",
    "id": "LpZj3s-VxXag"
   },
   "outputs": [],
   "source": [
    "# import packages\n",
    "import pandas as pd\n",
    "import numpy as np\n",
    "import matplotlib.pyplot as plt\n",
    "import seaborn as sns\n",
    "import plotly.graph_objects as go\n",
    "%matplotlib inline"
   ]
  },
  {
   "cell_type": "code",
   "execution_count": 3,
   "metadata": {
    "colab": {},
    "colab_type": "code",
    "id": "LOxCulsAnFZT"
   },
   "outputs": [],
   "source": [
    "# import spotify api for python\n",
    "import spotipy\n",
    "import spotipy.util as util\n",
    "from spotipy.oauth2 import SpotifyClientCredentials"
   ]
  },
  {
   "cell_type": "markdown",
   "metadata": {},
   "source": [
    "### Connect to Spotify API"
   ]
  },
  {
   "cell_type": "code",
   "execution_count": 4,
   "metadata": {
    "colab": {},
    "colab_type": "code",
    "id": "eIpBww8DnYJW"
   },
   "outputs": [],
   "source": [
    "# credentials\n",
    "client_id= \"...\"\n",
    "client_secret= \"...\"\n",
    "redirect_uri='http://google.com/'"
   ]
  },
  {
   "cell_type": "code",
   "execution_count": 5,
   "metadata": {
    "colab": {
     "base_uri": "https://localhost:8080/",
     "height": 292
    },
    "colab_type": "code",
    "id": "e2DeuOdTnaX-",
    "outputId": "5df3756f-4e9d-4b9b-9523-495fa268d463"
   },
   "outputs": [
    {
     "name": "stdout",
     "output_type": "stream",
     "text": [
      "\n",
      "\n",
      "            User authentication requires interaction with your\n",
      "            web browser. Once you enter your credentials and\n",
      "            give authorization, you will be redirected to\n",
      "            a url.  Paste that url you were directed to to\n",
      "            complete the authorization.\n",
      "\n",
      "        \n",
      "Opened https://accounts.spotify.com/authorize?client_id=840c2d539dab43b3810cd5d568ded445&response_type=code&redirect_uri=http%3A%2F%2Fgoogle.com%2F&scope=playlist-read-private+user-library-read in your browser\n",
      "\n",
      "\n",
      "Enter the URL you were redirected to: https://www.google.com/?code=AQCaHsMZmo-97d9PXfdMGJJW4YqSJAILLlYOJIrc8Qs4nxs_CUI5QXq1lWmm-ukg5oTLpIvsDv0Kd1hDxQupmul2KEmZDHc2OhRTNsoy5HMyUTVp1J4WWt0SfYf7tf6Mkf_u_lkQCaMm5LOJu9DjwswLCR5wy8k-5XYa3qJL90B0IDIZqchV68NrwOVTwn4ywzpHX4XU_E1R4972M5kUAl3cth8p85wMJb8yqcni4EbONQ\n",
      "\n",
      "\n"
     ]
    }
   ],
   "source": [
    "# set scope\n",
    "username='1257375947'\n",
    "client_credentials_manager = SpotifyClientCredentials(client_id=client_id, client_secret=client_secret) \n",
    "scope = 'user-library-read playlist-read-private'\n",
    "try:\n",
    "    token = util.prompt_for_user_token(username, scope,client_id=client_id, client_secret=client_secret, redirect_uri=redirect_uri)  \n",
    "    sp=spotipy.Spotify(auth= token)\n",
    "except:\n",
    "    print('Token is not accesible for ' + username)"
   ]
  },
  {
   "cell_type": "markdown",
   "metadata": {},
   "source": [
    "### Pull Hip-Hop and Classical Playlist Data"
   ]
  },
  {
   "cell_type": "code",
   "execution_count": 83,
   "metadata": {
    "colab": {},
    "colab_type": "code",
    "id": "Qa30OvXtngPm"
   },
   "outputs": [],
   "source": [
    "# get playlists\n",
    "songLibrary = sp.current_user_saved_tracks()\n",
    "# hip-hop playlists\n",
    "hh_playlist = sp.user_playlist('spotify', playlist_id='37i9dQZF1DWY4xHQp97fN6') # Get Turnt\n",
    "hh_playlist2 = sp.user_playlist('spotify', playlist_id='37i9dQZF1DX9s3cYAeKW5d') # Hip-Hop Work Out Mix\n",
    "hh_playlist3 = sp.user_playlist('spotify', playlist_id='37i9dQZF1DX6GwdWRQMQpq') # Feelin' Myself\n",
    "hh_playlist4 = sp.user_playlist('spotify', playlist_id='37i9dQZF1DX2RxBh64BHjQ') # Most Necessary\n",
    "\n",
    "# classical playlists\n",
    "# cl_playlist = sp.user_playlist('spotify', playlist_id='37i9dQZF1DWWEJlAGA9gs0') # Classical Essentials\n",
    "cl_playlist2 = sp.user_playlist('spotify', playlist_id='37i9dQZF1DXd5zUwdn6lPb') # Classical Focus\n",
    "# cl_playlist3 = sp.user_playlist('spotify', playlist_id='37i9dQZF1DX4s3V2rTswzO') # Classical Romance\n",
    "cl_playlist4 = sp.user_playlist('spotify', playlist_id='37i9dQZF1DWV0gynK7G6pD') # Classical New Releases"
   ]
  },
  {
   "cell_type": "code",
   "execution_count": 84,
   "metadata": {
    "colab": {},
    "colab_type": "code",
    "id": "ppp2dnBzw4qx"
   },
   "outputs": [],
   "source": [
    "# get tracks\n",
    "def get_tracks(playlist):\n",
    "  tracks = playlist[\"tracks\"]\n",
    "  songs = tracks[\"items\"] \n",
    "  while tracks['next']:\n",
    "      tracks = sp.next(tracks)\n",
    "      for item in tracks[\"items\"]:\n",
    "          songs.append(item)\n",
    "  ids = [] \n",
    "  for i in range(len(songs)):\n",
    "      ids.append(songs[i]['track']['id'])\n",
    "  return(ids)"
   ]
  },
  {
   "cell_type": "code",
   "execution_count": 85,
   "metadata": {
    "colab": {},
    "colab_type": "code",
    "id": "QAzY-jsKbUyV"
   },
   "outputs": [],
   "source": [
    "# Hip-hop ids\n",
    "hh_ids = get_tracks(hh_playlist)\n",
    "hh_ids2 = get_tracks(hh_playlist2)\n",
    "hh_ids3 = get_tracks(hh_playlist3)\n",
    "hh_ids4 = get_tracks(hh_playlist4)\n",
    "\n",
    "hh_ids_all = hh_ids+hh_ids2+hh_ids3+hh_ids4\n",
    "\n",
    "# Classical ids\n",
    "# cl_ids = get_tracks(cl_playlist)\n",
    "cl_ids2 = get_tracks(cl_playlist2)\n",
    "# cl_ids3 = get_tracks(cl_playlist3)\n",
    "# cl_ids4 = get_tracks(cl_playlist4)\n",
    "\n",
    "cl_ids_all = cl_ids2+cl_ids4#+cl_ids3+cl_ids4"
   ]
  },
  {
   "cell_type": "code",
   "execution_count": 86,
   "metadata": {},
   "outputs": [],
   "source": [
    "# remove duplicates\n",
    "def keep_unique(test_list):\n",
    "    res = [] \n",
    "    for i in test_list: \n",
    "        if i not in res: \n",
    "            res.append(i)\n",
    "    return(res)"
   ]
  },
  {
   "cell_type": "code",
   "execution_count": 87,
   "metadata": {},
   "outputs": [
    {
     "name": "stdout",
     "output_type": "stream",
     "text": [
      "# of Hip-Hop tracks: 285\n",
      "# of Classical Tracks: 294\n"
     ]
    }
   ],
   "source": [
    "# remove duplicates and check length --trying to keep classes balanced\n",
    "hh_ids_uniq = keep_unique(hh_ids_all)\n",
    "print('# of Hip-Hop tracks:', len(hh_ids_uniq))\n",
    "cl_ids_uniq = keep_unique(cl_ids_all)\n",
    "print('# of Classical Tracks:', len(cl_ids_uniq))"
   ]
  },
  {
   "cell_type": "code",
   "execution_count": 88,
   "metadata": {
    "colab": {},
    "colab_type": "code",
    "id": "8gd4aaDvxNvZ"
   },
   "outputs": [],
   "source": [
    "# get audio features\n",
    "def get_features(ids):\n",
    "  features = []\n",
    "  for i in range(0,len(ids)):\n",
    "      audio_features = sp.audio_features(ids[i:i+1])\n",
    "      for track in audio_features:\n",
    "          features.append(track)\n",
    "          features[-1]['target'] = 1\n",
    "  return(features)"
   ]
  },
  {
   "cell_type": "code",
   "execution_count": 90,
   "metadata": {
    "colab": {
     "base_uri": "https://localhost:8080/",
     "height": 51
    },
    "colab_type": "code",
    "id": "knNXqDyTbpGE",
    "outputId": "2d6671b3-ecec-402c-80c2-472dfaa85242"
   },
   "outputs": [],
   "source": [
    "# Hip-hop features\n",
    "hh_features = get_features(hh_ids_uniq)\n",
    "# hh_features2 = get_features(hh_ids2)\n",
    "# hh_features3 = get_features(hh_ids3)\n",
    "# hh_features4 = get_features(hh_ids4)\n",
    "\n",
    "# Classical features\n",
    "cl_features = get_features(cl_ids_uniq)\n",
    "# cl_features2 = get_features(cl_ids2)\n",
    "# cl_features3 = get_features(cl_ids3)\n",
    "# cl_features4 = get_features(cl_ids4)"
   ]
  },
  {
   "cell_type": "code",
   "execution_count": 93,
   "metadata": {
    "colab": {},
    "colab_type": "code",
    "id": "89HGVXPzb_F8"
   },
   "outputs": [],
   "source": [
    "# Add new 'genre' column with Hip_hop = 0, and Classical = 1\n",
    "hh_features = pd.DataFrame(hh_features)\n",
    "hh_features['genre'] = 0\n",
    "\n",
    "cl_features = pd.DataFrame(cl_features)\n",
    "cl_features['genre'] = 1"
   ]
  },
  {
   "cell_type": "markdown",
   "metadata": {},
   "source": [
    "### EDA"
   ]
  },
  {
   "cell_type": "code",
   "execution_count": 94,
   "metadata": {
    "colab": {
     "base_uri": "https://localhost:8080/",
     "height": 309
    },
    "colab_type": "code",
    "id": "I8Pa51ZJeok6",
    "outputId": "afd2bf63-4232-4cea-ccec-178e1382d8b3"
   },
   "outputs": [
    {
     "data": {
      "text/html": [
       "<div>\n",
       "<style scoped>\n",
       "    .dataframe tbody tr th:only-of-type {\n",
       "        vertical-align: middle;\n",
       "    }\n",
       "\n",
       "    .dataframe tbody tr th {\n",
       "        vertical-align: top;\n",
       "    }\n",
       "\n",
       "    .dataframe thead th {\n",
       "        text-align: right;\n",
       "    }\n",
       "</style>\n",
       "<table border=\"1\" class=\"dataframe\">\n",
       "  <thead>\n",
       "    <tr style=\"text-align: right;\">\n",
       "      <th></th>\n",
       "      <th>danceability</th>\n",
       "      <th>energy</th>\n",
       "      <th>key</th>\n",
       "      <th>loudness</th>\n",
       "      <th>mode</th>\n",
       "      <th>speechiness</th>\n",
       "      <th>acousticness</th>\n",
       "      <th>instrumentalness</th>\n",
       "      <th>liveness</th>\n",
       "      <th>valence</th>\n",
       "      <th>tempo</th>\n",
       "      <th>type</th>\n",
       "      <th>id</th>\n",
       "      <th>uri</th>\n",
       "      <th>track_href</th>\n",
       "      <th>analysis_url</th>\n",
       "      <th>duration_ms</th>\n",
       "      <th>time_signature</th>\n",
       "      <th>target</th>\n",
       "      <th>genre</th>\n",
       "    </tr>\n",
       "  </thead>\n",
       "  <tbody>\n",
       "    <tr>\n",
       "      <td>0</td>\n",
       "      <td>0.598</td>\n",
       "      <td>0.427</td>\n",
       "      <td>7</td>\n",
       "      <td>-8.764</td>\n",
       "      <td>0</td>\n",
       "      <td>0.0317</td>\n",
       "      <td>0.0546</td>\n",
       "      <td>0.000006</td>\n",
       "      <td>0.210</td>\n",
       "      <td>0.0605</td>\n",
       "      <td>76.469</td>\n",
       "      <td>audio_features</td>\n",
       "      <td>3eekarcy7kvN4yt5ZFzltW</td>\n",
       "      <td>spotify:track:3eekarcy7kvN4yt5ZFzltW</td>\n",
       "      <td>https://api.spotify.com/v1/tracks/3eekarcy7kvN...</td>\n",
       "      <td>https://api.spotify.com/v1/audio-analysis/3eek...</td>\n",
       "      <td>175721</td>\n",
       "      <td>4</td>\n",
       "      <td>1</td>\n",
       "      <td>0</td>\n",
       "    </tr>\n",
       "    <tr>\n",
       "      <td>1</td>\n",
       "      <td>0.882</td>\n",
       "      <td>0.602</td>\n",
       "      <td>11</td>\n",
       "      <td>-5.554</td>\n",
       "      <td>1</td>\n",
       "      <td>0.2450</td>\n",
       "      <td>0.0177</td>\n",
       "      <td>0.000000</td>\n",
       "      <td>0.178</td>\n",
       "      <td>0.4300</td>\n",
       "      <td>142.959</td>\n",
       "      <td>audio_features</td>\n",
       "      <td>598yNsG1JFrGd4n2kMoz7F</td>\n",
       "      <td>spotify:track:598yNsG1JFrGd4n2kMoz7F</td>\n",
       "      <td>https://api.spotify.com/v1/tracks/598yNsG1JFrG...</td>\n",
       "      <td>https://api.spotify.com/v1/audio-analysis/598y...</td>\n",
       "      <td>183011</td>\n",
       "      <td>4</td>\n",
       "      <td>1</td>\n",
       "      <td>0</td>\n",
       "    </tr>\n",
       "    <tr>\n",
       "      <td>2</td>\n",
       "      <td>0.769</td>\n",
       "      <td>0.787</td>\n",
       "      <td>11</td>\n",
       "      <td>-3.909</td>\n",
       "      <td>1</td>\n",
       "      <td>0.3670</td>\n",
       "      <td>0.1890</td>\n",
       "      <td>0.000000</td>\n",
       "      <td>0.129</td>\n",
       "      <td>0.8360</td>\n",
       "      <td>126.770</td>\n",
       "      <td>audio_features</td>\n",
       "      <td>6Ozh9Ok6h4Oi1wUSLtBseN</td>\n",
       "      <td>spotify:track:6Ozh9Ok6h4Oi1wUSLtBseN</td>\n",
       "      <td>https://api.spotify.com/v1/tracks/6Ozh9Ok6h4Oi...</td>\n",
       "      <td>https://api.spotify.com/v1/audio-analysis/6Ozh...</td>\n",
       "      <td>159715</td>\n",
       "      <td>4</td>\n",
       "      <td>1</td>\n",
       "      <td>0</td>\n",
       "    </tr>\n",
       "    <tr>\n",
       "      <td>3</td>\n",
       "      <td>0.924</td>\n",
       "      <td>0.466</td>\n",
       "      <td>4</td>\n",
       "      <td>-9.472</td>\n",
       "      <td>0</td>\n",
       "      <td>0.2440</td>\n",
       "      <td>0.0401</td>\n",
       "      <td>0.000000</td>\n",
       "      <td>0.109</td>\n",
       "      <td>0.5390</td>\n",
       "      <td>130.038</td>\n",
       "      <td>audio_features</td>\n",
       "      <td>5ravc2aiNoYmu9m37diYXW</td>\n",
       "      <td>spotify:track:5ravc2aiNoYmu9m37diYXW</td>\n",
       "      <td>https://api.spotify.com/v1/tracks/5ravc2aiNoYm...</td>\n",
       "      <td>https://api.spotify.com/v1/audio-analysis/5rav...</td>\n",
       "      <td>146656</td>\n",
       "      <td>4</td>\n",
       "      <td>1</td>\n",
       "      <td>0</td>\n",
       "    </tr>\n",
       "    <tr>\n",
       "      <td>4</td>\n",
       "      <td>0.753</td>\n",
       "      <td>0.652</td>\n",
       "      <td>10</td>\n",
       "      <td>-5.943</td>\n",
       "      <td>0</td>\n",
       "      <td>0.0753</td>\n",
       "      <td>0.4440</td>\n",
       "      <td>0.000000</td>\n",
       "      <td>0.117</td>\n",
       "      <td>0.7450</td>\n",
       "      <td>139.962</td>\n",
       "      <td>audio_features</td>\n",
       "      <td>5hDAT527wXWNBnJlujhuUs</td>\n",
       "      <td>spotify:track:5hDAT527wXWNBnJlujhuUs</td>\n",
       "      <td>https://api.spotify.com/v1/tracks/5hDAT527wXWN...</td>\n",
       "      <td>https://api.spotify.com/v1/audio-analysis/5hDA...</td>\n",
       "      <td>123560</td>\n",
       "      <td>4</td>\n",
       "      <td>1</td>\n",
       "      <td>0</td>\n",
       "    </tr>\n",
       "  </tbody>\n",
       "</table>\n",
       "</div>"
      ],
      "text/plain": [
       "   danceability  energy  key  loudness  mode  speechiness  acousticness  \\\n",
       "0         0.598   0.427    7    -8.764     0       0.0317        0.0546   \n",
       "1         0.882   0.602   11    -5.554     1       0.2450        0.0177   \n",
       "2         0.769   0.787   11    -3.909     1       0.3670        0.1890   \n",
       "3         0.924   0.466    4    -9.472     0       0.2440        0.0401   \n",
       "4         0.753   0.652   10    -5.943     0       0.0753        0.4440   \n",
       "\n",
       "   instrumentalness  liveness  valence    tempo            type  \\\n",
       "0          0.000006     0.210   0.0605   76.469  audio_features   \n",
       "1          0.000000     0.178   0.4300  142.959  audio_features   \n",
       "2          0.000000     0.129   0.8360  126.770  audio_features   \n",
       "3          0.000000     0.109   0.5390  130.038  audio_features   \n",
       "4          0.000000     0.117   0.7450  139.962  audio_features   \n",
       "\n",
       "                       id                                   uri  \\\n",
       "0  3eekarcy7kvN4yt5ZFzltW  spotify:track:3eekarcy7kvN4yt5ZFzltW   \n",
       "1  598yNsG1JFrGd4n2kMoz7F  spotify:track:598yNsG1JFrGd4n2kMoz7F   \n",
       "2  6Ozh9Ok6h4Oi1wUSLtBseN  spotify:track:6Ozh9Ok6h4Oi1wUSLtBseN   \n",
       "3  5ravc2aiNoYmu9m37diYXW  spotify:track:5ravc2aiNoYmu9m37diYXW   \n",
       "4  5hDAT527wXWNBnJlujhuUs  spotify:track:5hDAT527wXWNBnJlujhuUs   \n",
       "\n",
       "                                          track_href  \\\n",
       "0  https://api.spotify.com/v1/tracks/3eekarcy7kvN...   \n",
       "1  https://api.spotify.com/v1/tracks/598yNsG1JFrG...   \n",
       "2  https://api.spotify.com/v1/tracks/6Ozh9Ok6h4Oi...   \n",
       "3  https://api.spotify.com/v1/tracks/5ravc2aiNoYm...   \n",
       "4  https://api.spotify.com/v1/tracks/5hDAT527wXWN...   \n",
       "\n",
       "                                        analysis_url  duration_ms  \\\n",
       "0  https://api.spotify.com/v1/audio-analysis/3eek...       175721   \n",
       "1  https://api.spotify.com/v1/audio-analysis/598y...       183011   \n",
       "2  https://api.spotify.com/v1/audio-analysis/6Ozh...       159715   \n",
       "3  https://api.spotify.com/v1/audio-analysis/5rav...       146656   \n",
       "4  https://api.spotify.com/v1/audio-analysis/5hDA...       123560   \n",
       "\n",
       "   time_signature  target  genre  \n",
       "0               4       1      0  \n",
       "1               4       1      0  \n",
       "2               4       1      0  \n",
       "3               4       1      0  \n",
       "4               4       1      0  "
      ]
     },
     "execution_count": 94,
     "metadata": {},
     "output_type": "execute_result"
    }
   ],
   "source": [
    "hh_features.head()"
   ]
  },
  {
   "cell_type": "code",
   "execution_count": 95,
   "metadata": {
    "colab": {
     "base_uri": "https://localhost:8080/",
     "height": 314
    },
    "colab_type": "code",
    "id": "MdFcLh7y8irJ",
    "outputId": "50e9841c-5b88-45b1-f976-44aa7bd28491"
   },
   "outputs": [
    {
     "name": "stdout",
     "output_type": "stream",
     "text": [
      "Hip-Hop:\n"
     ]
    },
    {
     "data": {
      "text/html": [
       "<div>\n",
       "<style scoped>\n",
       "    .dataframe tbody tr th:only-of-type {\n",
       "        vertical-align: middle;\n",
       "    }\n",
       "\n",
       "    .dataframe tbody tr th {\n",
       "        vertical-align: top;\n",
       "    }\n",
       "\n",
       "    .dataframe thead th {\n",
       "        text-align: right;\n",
       "    }\n",
       "</style>\n",
       "<table border=\"1\" class=\"dataframe\">\n",
       "  <thead>\n",
       "    <tr style=\"text-align: right;\">\n",
       "      <th></th>\n",
       "      <th>danceability</th>\n",
       "      <th>energy</th>\n",
       "      <th>key</th>\n",
       "      <th>loudness</th>\n",
       "      <th>mode</th>\n",
       "      <th>speechiness</th>\n",
       "      <th>acousticness</th>\n",
       "      <th>instrumentalness</th>\n",
       "      <th>liveness</th>\n",
       "      <th>valence</th>\n",
       "      <th>tempo</th>\n",
       "      <th>duration_ms</th>\n",
       "      <th>time_signature</th>\n",
       "      <th>target</th>\n",
       "      <th>genre</th>\n",
       "    </tr>\n",
       "  </thead>\n",
       "  <tbody>\n",
       "    <tr>\n",
       "      <td>count</td>\n",
       "      <td>285.00</td>\n",
       "      <td>285.00</td>\n",
       "      <td>285.00</td>\n",
       "      <td>285.00</td>\n",
       "      <td>285.00</td>\n",
       "      <td>285.00</td>\n",
       "      <td>285.00</td>\n",
       "      <td>285.00</td>\n",
       "      <td>285.00</td>\n",
       "      <td>285.00</td>\n",
       "      <td>285.00</td>\n",
       "      <td>285.00</td>\n",
       "      <td>285.00</td>\n",
       "      <td>285.0</td>\n",
       "      <td>285.0</td>\n",
       "    </tr>\n",
       "    <tr>\n",
       "      <td>mean</td>\n",
       "      <td>0.78</td>\n",
       "      <td>0.63</td>\n",
       "      <td>5.04</td>\n",
       "      <td>-6.29</td>\n",
       "      <td>0.52</td>\n",
       "      <td>0.22</td>\n",
       "      <td>0.15</td>\n",
       "      <td>0.00</td>\n",
       "      <td>0.16</td>\n",
       "      <td>0.50</td>\n",
       "      <td>126.46</td>\n",
       "      <td>184464.73</td>\n",
       "      <td>3.97</td>\n",
       "      <td>1.0</td>\n",
       "      <td>0.0</td>\n",
       "    </tr>\n",
       "    <tr>\n",
       "      <td>std</td>\n",
       "      <td>0.12</td>\n",
       "      <td>0.12</td>\n",
       "      <td>3.68</td>\n",
       "      <td>1.97</td>\n",
       "      <td>0.50</td>\n",
       "      <td>0.12</td>\n",
       "      <td>0.16</td>\n",
       "      <td>0.01</td>\n",
       "      <td>0.11</td>\n",
       "      <td>0.20</td>\n",
       "      <td>30.20</td>\n",
       "      <td>37703.70</td>\n",
       "      <td>0.30</td>\n",
       "      <td>0.0</td>\n",
       "      <td>0.0</td>\n",
       "    </tr>\n",
       "    <tr>\n",
       "      <td>min</td>\n",
       "      <td>0.29</td>\n",
       "      <td>0.24</td>\n",
       "      <td>0.00</td>\n",
       "      <td>-15.54</td>\n",
       "      <td>0.00</td>\n",
       "      <td>0.03</td>\n",
       "      <td>0.00</td>\n",
       "      <td>0.00</td>\n",
       "      <td>0.03</td>\n",
       "      <td>0.06</td>\n",
       "      <td>76.06</td>\n",
       "      <td>104591.00</td>\n",
       "      <td>1.00</td>\n",
       "      <td>1.0</td>\n",
       "      <td>0.0</td>\n",
       "    </tr>\n",
       "    <tr>\n",
       "      <td>25%</td>\n",
       "      <td>0.72</td>\n",
       "      <td>0.55</td>\n",
       "      <td>1.00</td>\n",
       "      <td>-7.32</td>\n",
       "      <td>0.00</td>\n",
       "      <td>0.12</td>\n",
       "      <td>0.02</td>\n",
       "      <td>0.00</td>\n",
       "      <td>0.10</td>\n",
       "      <td>0.36</td>\n",
       "      <td>98.06</td>\n",
       "      <td>156893.00</td>\n",
       "      <td>4.00</td>\n",
       "      <td>1.0</td>\n",
       "      <td>0.0</td>\n",
       "    </tr>\n",
       "    <tr>\n",
       "      <td>50%</td>\n",
       "      <td>0.81</td>\n",
       "      <td>0.63</td>\n",
       "      <td>5.00</td>\n",
       "      <td>-6.03</td>\n",
       "      <td>1.00</td>\n",
       "      <td>0.22</td>\n",
       "      <td>0.08</td>\n",
       "      <td>0.00</td>\n",
       "      <td>0.12</td>\n",
       "      <td>0.48</td>\n",
       "      <td>128.04</td>\n",
       "      <td>181109.00</td>\n",
       "      <td>4.00</td>\n",
       "      <td>1.0</td>\n",
       "      <td>0.0</td>\n",
       "    </tr>\n",
       "    <tr>\n",
       "      <td>75%</td>\n",
       "      <td>0.87</td>\n",
       "      <td>0.72</td>\n",
       "      <td>8.00</td>\n",
       "      <td>-4.97</td>\n",
       "      <td>1.00</td>\n",
       "      <td>0.31</td>\n",
       "      <td>0.22</td>\n",
       "      <td>0.00</td>\n",
       "      <td>0.17</td>\n",
       "      <td>0.64</td>\n",
       "      <td>150.06</td>\n",
       "      <td>207517.00</td>\n",
       "      <td>4.00</td>\n",
       "      <td>1.0</td>\n",
       "      <td>0.0</td>\n",
       "    </tr>\n",
       "    <tr>\n",
       "      <td>max</td>\n",
       "      <td>0.97</td>\n",
       "      <td>0.96</td>\n",
       "      <td>11.00</td>\n",
       "      <td>-2.61</td>\n",
       "      <td>1.00</td>\n",
       "      <td>0.70</td>\n",
       "      <td>0.86</td>\n",
       "      <td>0.09</td>\n",
       "      <td>0.89</td>\n",
       "      <td>0.96</td>\n",
       "      <td>204.08</td>\n",
       "      <td>328800.00</td>\n",
       "      <td>5.00</td>\n",
       "      <td>1.0</td>\n",
       "      <td>0.0</td>\n",
       "    </tr>\n",
       "  </tbody>\n",
       "</table>\n",
       "</div>"
      ],
      "text/plain": [
       "       danceability  energy     key  loudness    mode  speechiness  \\\n",
       "count        285.00  285.00  285.00    285.00  285.00       285.00   \n",
       "mean           0.78    0.63    5.04     -6.29    0.52         0.22   \n",
       "std            0.12    0.12    3.68      1.97    0.50         0.12   \n",
       "min            0.29    0.24    0.00    -15.54    0.00         0.03   \n",
       "25%            0.72    0.55    1.00     -7.32    0.00         0.12   \n",
       "50%            0.81    0.63    5.00     -6.03    1.00         0.22   \n",
       "75%            0.87    0.72    8.00     -4.97    1.00         0.31   \n",
       "max            0.97    0.96   11.00     -2.61    1.00         0.70   \n",
       "\n",
       "       acousticness  instrumentalness  liveness  valence   tempo  duration_ms  \\\n",
       "count        285.00            285.00    285.00   285.00  285.00       285.00   \n",
       "mean           0.15              0.00      0.16     0.50  126.46    184464.73   \n",
       "std            0.16              0.01      0.11     0.20   30.20     37703.70   \n",
       "min            0.00              0.00      0.03     0.06   76.06    104591.00   \n",
       "25%            0.02              0.00      0.10     0.36   98.06    156893.00   \n",
       "50%            0.08              0.00      0.12     0.48  128.04    181109.00   \n",
       "75%            0.22              0.00      0.17     0.64  150.06    207517.00   \n",
       "max            0.86              0.09      0.89     0.96  204.08    328800.00   \n",
       "\n",
       "       time_signature  target  genre  \n",
       "count          285.00   285.0  285.0  \n",
       "mean             3.97     1.0    0.0  \n",
       "std              0.30     0.0    0.0  \n",
       "min              1.00     1.0    0.0  \n",
       "25%              4.00     1.0    0.0  \n",
       "50%              4.00     1.0    0.0  \n",
       "75%              4.00     1.0    0.0  \n",
       "max              5.00     1.0    0.0  "
      ]
     },
     "execution_count": 95,
     "metadata": {},
     "output_type": "execute_result"
    }
   ],
   "source": [
    "# Print Hip-Hop's summary stats\n",
    "print('Hip-Hop:')\n",
    "hh_features.describe().round(2)"
   ]
  },
  {
   "cell_type": "code",
   "execution_count": 96,
   "metadata": {
    "colab": {
     "base_uri": "https://localhost:8080/",
     "height": 314
    },
    "colab_type": "code",
    "id": "FJepmZTi9Og6",
    "outputId": "a2af8f9b-071f-4584-f026-2b366d7efbc8"
   },
   "outputs": [
    {
     "name": "stdout",
     "output_type": "stream",
     "text": [
      "Classical:\n"
     ]
    },
    {
     "data": {
      "text/html": [
       "<div>\n",
       "<style scoped>\n",
       "    .dataframe tbody tr th:only-of-type {\n",
       "        vertical-align: middle;\n",
       "    }\n",
       "\n",
       "    .dataframe tbody tr th {\n",
       "        vertical-align: top;\n",
       "    }\n",
       "\n",
       "    .dataframe thead th {\n",
       "        text-align: right;\n",
       "    }\n",
       "</style>\n",
       "<table border=\"1\" class=\"dataframe\">\n",
       "  <thead>\n",
       "    <tr style=\"text-align: right;\">\n",
       "      <th></th>\n",
       "      <th>danceability</th>\n",
       "      <th>energy</th>\n",
       "      <th>key</th>\n",
       "      <th>loudness</th>\n",
       "      <th>mode</th>\n",
       "      <th>speechiness</th>\n",
       "      <th>acousticness</th>\n",
       "      <th>instrumentalness</th>\n",
       "      <th>liveness</th>\n",
       "      <th>valence</th>\n",
       "      <th>tempo</th>\n",
       "      <th>duration_ms</th>\n",
       "      <th>time_signature</th>\n",
       "      <th>target</th>\n",
       "      <th>genre</th>\n",
       "    </tr>\n",
       "  </thead>\n",
       "  <tbody>\n",
       "    <tr>\n",
       "      <td>count</td>\n",
       "      <td>294.00</td>\n",
       "      <td>294.00</td>\n",
       "      <td>294.00</td>\n",
       "      <td>294.00</td>\n",
       "      <td>294.00</td>\n",
       "      <td>294.00</td>\n",
       "      <td>294.00</td>\n",
       "      <td>294.00</td>\n",
       "      <td>294.00</td>\n",
       "      <td>294.00</td>\n",
       "      <td>294.00</td>\n",
       "      <td>294.00</td>\n",
       "      <td>294.00</td>\n",
       "      <td>294.0</td>\n",
       "      <td>294.0</td>\n",
       "    </tr>\n",
       "    <tr>\n",
       "      <td>mean</td>\n",
       "      <td>0.32</td>\n",
       "      <td>0.08</td>\n",
       "      <td>5.42</td>\n",
       "      <td>-25.56</td>\n",
       "      <td>0.70</td>\n",
       "      <td>0.05</td>\n",
       "      <td>0.94</td>\n",
       "      <td>0.75</td>\n",
       "      <td>0.13</td>\n",
       "      <td>0.23</td>\n",
       "      <td>101.37</td>\n",
       "      <td>222335.34</td>\n",
       "      <td>3.59</td>\n",
       "      <td>1.0</td>\n",
       "      <td>1.0</td>\n",
       "    </tr>\n",
       "    <tr>\n",
       "      <td>std</td>\n",
       "      <td>0.14</td>\n",
       "      <td>0.08</td>\n",
       "      <td>3.37</td>\n",
       "      <td>6.33</td>\n",
       "      <td>0.46</td>\n",
       "      <td>0.02</td>\n",
       "      <td>0.11</td>\n",
       "      <td>0.30</td>\n",
       "      <td>0.07</td>\n",
       "      <td>0.20</td>\n",
       "      <td>31.37</td>\n",
       "      <td>152959.37</td>\n",
       "      <td>0.79</td>\n",
       "      <td>0.0</td>\n",
       "      <td>0.0</td>\n",
       "    </tr>\n",
       "    <tr>\n",
       "      <td>min</td>\n",
       "      <td>0.06</td>\n",
       "      <td>0.00</td>\n",
       "      <td>0.00</td>\n",
       "      <td>-44.35</td>\n",
       "      <td>0.00</td>\n",
       "      <td>0.03</td>\n",
       "      <td>0.01</td>\n",
       "      <td>0.00</td>\n",
       "      <td>0.05</td>\n",
       "      <td>0.02</td>\n",
       "      <td>35.90</td>\n",
       "      <td>52907.00</td>\n",
       "      <td>1.00</td>\n",
       "      <td>1.0</td>\n",
       "      <td>1.0</td>\n",
       "    </tr>\n",
       "    <tr>\n",
       "      <td>25%</td>\n",
       "      <td>0.22</td>\n",
       "      <td>0.02</td>\n",
       "      <td>2.00</td>\n",
       "      <td>-30.00</td>\n",
       "      <td>0.00</td>\n",
       "      <td>0.04</td>\n",
       "      <td>0.94</td>\n",
       "      <td>0.73</td>\n",
       "      <td>0.09</td>\n",
       "      <td>0.07</td>\n",
       "      <td>74.79</td>\n",
       "      <td>127614.25</td>\n",
       "      <td>3.00</td>\n",
       "      <td>1.0</td>\n",
       "      <td>1.0</td>\n",
       "    </tr>\n",
       "    <tr>\n",
       "      <td>50%</td>\n",
       "      <td>0.33</td>\n",
       "      <td>0.05</td>\n",
       "      <td>5.00</td>\n",
       "      <td>-25.55</td>\n",
       "      <td>1.00</td>\n",
       "      <td>0.04</td>\n",
       "      <td>0.98</td>\n",
       "      <td>0.89</td>\n",
       "      <td>0.11</td>\n",
       "      <td>0.16</td>\n",
       "      <td>92.75</td>\n",
       "      <td>186800.00</td>\n",
       "      <td>4.00</td>\n",
       "      <td>1.0</td>\n",
       "      <td>1.0</td>\n",
       "    </tr>\n",
       "    <tr>\n",
       "      <td>75%</td>\n",
       "      <td>0.41</td>\n",
       "      <td>0.10</td>\n",
       "      <td>8.75</td>\n",
       "      <td>-21.00</td>\n",
       "      <td>1.00</td>\n",
       "      <td>0.05</td>\n",
       "      <td>0.99</td>\n",
       "      <td>0.92</td>\n",
       "      <td>0.14</td>\n",
       "      <td>0.32</td>\n",
       "      <td>125.51</td>\n",
       "      <td>267273.00</td>\n",
       "      <td>4.00</td>\n",
       "      <td>1.0</td>\n",
       "      <td>1.0</td>\n",
       "    </tr>\n",
       "    <tr>\n",
       "      <td>max</td>\n",
       "      <td>0.71</td>\n",
       "      <td>0.50</td>\n",
       "      <td>11.00</td>\n",
       "      <td>-9.83</td>\n",
       "      <td>1.00</td>\n",
       "      <td>0.26</td>\n",
       "      <td>1.00</td>\n",
       "      <td>0.99</td>\n",
       "      <td>0.58</td>\n",
       "      <td>0.98</td>\n",
       "      <td>182.60</td>\n",
       "      <td>1609307.00</td>\n",
       "      <td>5.00</td>\n",
       "      <td>1.0</td>\n",
       "      <td>1.0</td>\n",
       "    </tr>\n",
       "  </tbody>\n",
       "</table>\n",
       "</div>"
      ],
      "text/plain": [
       "       danceability  energy     key  loudness    mode  speechiness  \\\n",
       "count        294.00  294.00  294.00    294.00  294.00       294.00   \n",
       "mean           0.32    0.08    5.42    -25.56    0.70         0.05   \n",
       "std            0.14    0.08    3.37      6.33    0.46         0.02   \n",
       "min            0.06    0.00    0.00    -44.35    0.00         0.03   \n",
       "25%            0.22    0.02    2.00    -30.00    0.00         0.04   \n",
       "50%            0.33    0.05    5.00    -25.55    1.00         0.04   \n",
       "75%            0.41    0.10    8.75    -21.00    1.00         0.05   \n",
       "max            0.71    0.50   11.00     -9.83    1.00         0.26   \n",
       "\n",
       "       acousticness  instrumentalness  liveness  valence   tempo  duration_ms  \\\n",
       "count        294.00            294.00    294.00   294.00  294.00       294.00   \n",
       "mean           0.94              0.75      0.13     0.23  101.37    222335.34   \n",
       "std            0.11              0.30      0.07     0.20   31.37    152959.37   \n",
       "min            0.01              0.00      0.05     0.02   35.90     52907.00   \n",
       "25%            0.94              0.73      0.09     0.07   74.79    127614.25   \n",
       "50%            0.98              0.89      0.11     0.16   92.75    186800.00   \n",
       "75%            0.99              0.92      0.14     0.32  125.51    267273.00   \n",
       "max            1.00              0.99      0.58     0.98  182.60   1609307.00   \n",
       "\n",
       "       time_signature  target  genre  \n",
       "count          294.00   294.0  294.0  \n",
       "mean             3.59     1.0    1.0  \n",
       "std              0.79     0.0    0.0  \n",
       "min              1.00     1.0    1.0  \n",
       "25%              3.00     1.0    1.0  \n",
       "50%              4.00     1.0    1.0  \n",
       "75%              4.00     1.0    1.0  \n",
       "max              5.00     1.0    1.0  "
      ]
     },
     "execution_count": 96,
     "metadata": {},
     "output_type": "execute_result"
    }
   ],
   "source": [
    "# Print Classical's summary stats\n",
    "print('Classical:')\n",
    "cl_features.describe().round(2)"
   ]
  },
  {
   "cell_type": "code",
   "execution_count": 97,
   "metadata": {
    "colab": {
     "base_uri": "https://localhost:8080/",
     "height": 460
    },
    "colab_type": "code",
    "id": "xWWU-DAGeja1",
    "outputId": "5b7d7982-f8c2-4089-ac05-3f2a0312a66e"
   },
   "outputs": [
    {
     "data": {
      "text/plain": [
       "<matplotlib.axes._subplots.AxesSubplot at 0x1a205bffd0>"
      ]
     },
     "execution_count": 97,
     "metadata": {},
     "output_type": "execute_result"
    },
    {
     "data": {
      "image/png": "[encoded data removed]",
      "text/plain": [
       "<Figure size 1440x504 with 8 Axes>"
      ]
     },
     "metadata": {
      "needs_background": "light"
     },
     "output_type": "display_data"
    }
   ],
   "source": [
    "# Build grid comparing features distributions\n",
    "# Hip-Hop = Blue\n",
    "# Classical = Red\n",
    "\n",
    "fig = plt.figure(figsize=(20,7))\n",
    "fig.subplots_adjust(hspace=0.3, wspace=0.2)\n",
    "# danceabliity\n",
    "ax = fig.add_subplot(2, 4, 1)\n",
    "sns.distplot(hh_features.iloc[:,0], bins=25, color='cornflowerblue')\n",
    "sns.distplot(cl_features.iloc[:,0], bins=25, color='red')\n",
    "# energy\n",
    "ax = fig.add_subplot(2, 4, 2)\n",
    "sns.distplot(hh_features.iloc[:,1], bins=25, color='cornflowerblue')\n",
    "sns.distplot(cl_features.iloc[:,1], bins=25, color='red')\n",
    "# loudness\n",
    "ax = fig.add_subplot(2, 4, 3)\n",
    "sns.distplot(hh_features.iloc[:,3], bins=25, color='cornflowerblue')\n",
    "sns.distplot(cl_features.iloc[:,3], bins=25, color='red')\n",
    "# speechiness\t\n",
    "ax = fig.add_subplot(2, 4, 4)\n",
    "sns.distplot(hh_features.iloc[:,5], bins=25, color='cornflowerblue')\n",
    "sns.distplot(cl_features.iloc[:,5], bins=25, color='red')\n",
    "# acousticness\n",
    "ax = fig.add_subplot(2, 4, 5)\n",
    "sns.distplot(hh_features.iloc[:,6], bins=25, color='cornflowerblue')\n",
    "sns.distplot(cl_features.iloc[:,6], bins=25, color='red')\n",
    "# liveliness\n",
    "ax = fig.add_subplot(2, 4, 6)\n",
    "sns.distplot(hh_features.iloc[:,8], bins=25, color='cornflowerblue')\n",
    "sns.distplot(cl_features.iloc[:,8], bins=25, color='red')\n",
    "# valence\n",
    "ax = fig.add_subplot(2, 4, 7)\n",
    "sns.distplot(hh_features.iloc[:,9], bins=25, color='cornflowerblue')\n",
    "sns.distplot(cl_features.iloc[:,9], bins=25, color='red')\n",
    "# tempo\n",
    "ax = fig.add_subplot(2, 4, 8)\n",
    "sns.distplot(hh_features.iloc[:,10], bins=25, color='cornflowerblue')\n",
    "sns.distplot(cl_features.iloc[:,10], bins=25, color='red')"
   ]
  },
  {
   "cell_type": "code",
   "execution_count": 99,
   "metadata": {
    "colab": {
     "base_uri": "https://localhost:8080/",
     "height": 542
    },
    "colab_type": "code",
    "id": "0PpBj3PrxjPJ",
    "outputId": "705d0171-85ac-4ec6-e6d5-b93eb1f5c6ac"
   },
   "outputs": [
    {
     "data": {
      "application/vnd.plotly.v1+json": {
       "config": {
        "plotlyServerURL": "https://plot.ly"
       },
       "data": [
        {
         "fill": "toself",
         "name": "Hip_Hop",
         "r": [
          0.7827333333333334,
          0.6296842105263158,
          0.2200098245614033,
          0.14591060350877186,
          0.0008955057543859649,
          0.15645228070175424,
          0.49689298245614044
         ],
         "theta": [
          "danceability",
          "energy",
          "speechiness",
          "acousticness",
          "instrumentalness",
          "liveness",
          "valence"
         ],
         "type": "scatterpolar"
        },
        {
         "fill": "toself",
         "name": "Classical",
         "r": [
          0.3198700680272108,
          0.07673167006802725,
          0.04662448979591838,
          0.9416268707483001,
          0.7483723694897964,
          0.12778639455782317,
          0.22509999999999997
         ],
         "theta": [
          "danceability",
          "energy",
          "speechiness",
          "acousticness",
          "instrumentalness",
          "liveness",
          "valence"
         ],
         "type": "scatterpolar"
        }
       ],
       "layout": {
        "polar": {
         "radialaxis": {
          "range": [
           0,
           1
          ],
          "visible": true
         }
        },
        "showlegend": true,
        "template": {
         "data": {
          "bar": [
           {
            "error_x": {
             "color": "#2a3f5f"
            },
            "error_y": {
             "color": "#2a3f5f"
            },
            "marker": {
             "line": {
              "color": "#E5ECF6",
              "width": 0.5
             }
            },
            "type": "bar"
           }
          ],
          "barpolar": [
           {
            "marker": {
             "line": {
              "color": "#E5ECF6",
              "width": 0.5
             }
            },
            "type": "barpolar"
           }
          ],
          "carpet": [
           {
            "aaxis": {
             "endlinecolor": "#2a3f5f",
             "gridcolor": "white",
             "linecolor": "white",
             "minorgridcolor": "white",
             "startlinecolor": "#2a3f5f"
            },
            "baxis": {
             "endlinecolor": "#2a3f5f",
             "gridcolor": "white",
             "linecolor": "white",
             "minorgridcolor": "white",
             "startlinecolor": "#2a3f5f"
            },
            "type": "carpet"
           }
          ],
          "choropleth": [
           {
            "colorbar": {
             "outlinewidth": 0,
             "ticks": ""
            },
            "type": "choropleth"
           }
          ],
          "contour": [
           {
            "colorbar": {
             "outlinewidth": 0,
             "ticks": ""
            },
            "colorscale": [
             [
              0,
              "#0d0887"
             ],
             [
              0.1111111111111111,
              "#46039f"
             ],
             [
              0.2222222222222222,
              "#7201a8"
             ],
             [
              0.3333333333333333,
              "#9c179e"
             ],
             [
              0.4444444444444444,
              "#bd3786"
             ],
             [
              0.5555555555555556,
              "#d8576b"
             ],
             [
              0.6666666666666666,
              "#ed7953"
             ],
             [
              0.7777777777777778,
              "#fb9f3a"
             ],
             [
              0.8888888888888888,
              "#fdca26"
             ],
             [
              1,
              "#f0f921"
             ]
            ],
            "type": "contour"
           }
          ],
          "contourcarpet": [
           {
            "colorbar": {
             "outlinewidth": 0,
             "ticks": ""
            },
            "type": "contourcarpet"
           }
          ],
          "heatmap": [
           {
            "colorbar": {
             "outlinewidth": 0,
             "ticks": ""
            },
            "colorscale": [
             [
              0,
              "#0d0887"
             ],
             [
              0.1111111111111111,
              "#46039f"
             ],
             [
              0.2222222222222222,
              "#7201a8"
             ],
             [
              0.3333333333333333,
              "#9c179e"
             ],
             [
              0.4444444444444444,
              "#bd3786"
             ],
             [
              0.5555555555555556,
              "#d8576b"
             ],
             [
              0.6666666666666666,
              "#ed7953"
             ],
             [
              0.7777777777777778,
              "#fb9f3a"
             ],
             [
              0.8888888888888888,
              "#fdca26"
             ],
             [
              1,
              "#f0f921"
             ]
            ],
            "type": "heatmap"
           }
          ],
          "heatmapgl": [
           {
            "colorbar": {
             "outlinewidth": 0,
             "ticks": ""
            },
            "colorscale": [
             [
              0,
              "#0d0887"
             ],
             [
              0.1111111111111111,
              "#46039f"
             ],
             [
              0.2222222222222222,
              "#7201a8"
             ],
             [
              0.3333333333333333,
              "#9c179e"
             ],
             [
              0.4444444444444444,
              "#bd3786"
             ],
             [
              0.5555555555555556,
              "#d8576b"
             ],
             [
              0.6666666666666666,
              "#ed7953"
             ],
             [
              0.7777777777777778,
              "#fb9f3a"
             ],
             [
              0.8888888888888888,
              "#fdca26"
             ],
             [
              1,
              "#f0f921"
             ]
            ],
            "type": "heatmapgl"
           }
          ],
          "histogram": [
           {
            "marker": {
             "colorbar": {
              "outlinewidth": 0,
              "ticks": ""
             }
            },
            "type": "histogram"
           }
          ],
          "histogram2d": [
           {
            "colorbar": {
             "outlinewidth": 0,
             "ticks": ""
            },
            "colorscale": [
             [
              0,
              "#0d0887"
             ],
             [
              0.1111111111111111,
              "#46039f"
             ],
             [
              0.2222222222222222,
              "#7201a8"
             ],
             [
              0.3333333333333333,
              "#9c179e"
             ],
             [
              0.4444444444444444,
              "#bd3786"
             ],
             [
              0.5555555555555556,
              "#d8576b"
             ],
             [
              0.6666666666666666,
              "#ed7953"
             ],
             [
              0.7777777777777778,
              "#fb9f3a"
             ],
             [
              0.8888888888888888,
              "#fdca26"
             ],
             [
              1,
              "#f0f921"
             ]
            ],
            "type": "histogram2d"
           }
          ],
          "histogram2dcontour": [
           {
            "colorbar": {
             "outlinewidth": 0,
             "ticks": ""
            },
            "colorscale": [
             [
              0,
              "#0d0887"
             ],
             [
              0.1111111111111111,
              "#46039f"
             ],
             [
              0.2222222222222222,
              "#7201a8"
             ],
             [
              0.3333333333333333,
              "#9c179e"
             ],
             [
              0.4444444444444444,
              "#bd3786"
             ],
             [
              0.5555555555555556,
              "#d8576b"
             ],
             [
              0.6666666666666666,
              "#ed7953"
             ],
             [
              0.7777777777777778,
              "#fb9f3a"
             ],
             [
              0.8888888888888888,
              "#fdca26"
             ],
             [
              1,
              "#f0f921"
             ]
            ],
            "type": "histogram2dcontour"
           }
          ],
          "mesh3d": [
           {
            "colorbar": {
             "outlinewidth": 0,
             "ticks": ""
            },
            "type": "mesh3d"
           }
          ],
          "parcoords": [
           {
            "line": {
             "colorbar": {
              "outlinewidth": 0,
              "ticks": ""
             }
            },
            "type": "parcoords"
           }
          ],
          "pie": [
           {
            "automargin": true,
            "type": "pie"
           }
          ],
          "scatter": [
           {
            "marker": {
             "colorbar": {
              "outlinewidth": 0,
              "ticks": ""
             }
            },
            "type": "scatter"
           }
          ],
          "scatter3d": [
           {
            "line": {
             "colorbar": {
              "outlinewidth": 0,
              "ticks": ""
             }
            },
            "marker": {
             "colorbar": {
              "outlinewidth": 0,
              "ticks": ""
             }
            },
            "type": "scatter3d"
           }
          ],
          "scattercarpet": [
           {
            "marker": {
             "colorbar": {
              "outlinewidth": 0,
              "ticks": ""
             }
            },
            "type": "scattercarpet"
           }
          ],
          "scattergeo": [
           {
            "marker": {
             "colorbar": {
              "outlinewidth": 0,
              "ticks": ""
             }
            },
            "type": "scattergeo"
           }
          ],
          "scattergl": [
           {
            "marker": {
             "colorbar": {
              "outlinewidth": 0,
              "ticks": ""
             }
            },
            "type": "scattergl"
           }
          ],
          "scattermapbox": [
           {
            "marker": {
             "colorbar": {
              "outlinewidth": 0,
              "ticks": ""
             }
            },
            "type": "scattermapbox"
           }
          ],
          "scatterpolar": [
           {
            "marker": {
             "colorbar": {
              "outlinewidth": 0,
              "ticks": ""
             }
            },
            "type": "scatterpolar"
           }
          ],
          "scatterpolargl": [
           {
            "marker": {
             "colorbar": {
              "outlinewidth": 0,
              "ticks": ""
             }
            },
            "type": "scatterpolargl"
           }
          ],
          "scatterternary": [
           {
            "marker": {
             "colorbar": {
              "outlinewidth": 0,
              "ticks": ""
             }
            },
            "type": "scatterternary"
           }
          ],
          "surface": [
           {
            "colorbar": {
             "outlinewidth": 0,
             "ticks": ""
            },
            "colorscale": [
             [
              0,
              "#0d0887"
             ],
             [
              0.1111111111111111,
              "#46039f"
             ],
             [
              0.2222222222222222,
              "#7201a8"
             ],
             [
              0.3333333333333333,
              "#9c179e"
             ],
             [
              0.4444444444444444,
              "#bd3786"
             ],
             [
              0.5555555555555556,
              "#d8576b"
             ],
             [
              0.6666666666666666,
              "#ed7953"
             ],
             [
              0.7777777777777778,
              "#fb9f3a"
             ],
             [
              0.8888888888888888,
              "#fdca26"
             ],
             [
              1,
              "#f0f921"
             ]
            ],
            "type": "surface"
           }
          ],
          "table": [
           {
            "cells": {
             "fill": {
              "color": "#EBF0F8"
             },
             "line": {
              "color": "white"
             }
            },
            "header": {
             "fill": {
              "color": "#C8D4E3"
             },
             "line": {
              "color": "white"
             }
            },
            "type": "table"
           }
          ]
         },
         "layout": {
          "annotationdefaults": {
           "arrowcolor": "#2a3f5f",
           "arrowhead": 0,
           "arrowwidth": 1
          },
          "coloraxis": {
           "colorbar": {
            "outlinewidth": 0,
            "ticks": ""
           }
          },
          "colorscale": {
           "diverging": [
            [
             0,
             "#8e0152"
            ],
            [
             0.1,
             "#c51b7d"
            ],
            [
             0.2,
             "#de77ae"
            ],
            [
             0.3,
             "#f1b6da"
            ],
            [
             0.4,
             "#fde0ef"
            ],
            [
             0.5,
             "#f7f7f7"
            ],
            [
             0.6,
             "#e6f5d0"
            ],
            [
             0.7,
             "#b8e186"
            ],
            [
             0.8,
             "#7fbc41"
            ],
            [
             0.9,
             "#4d9221"
            ],
            [
             1,
             "#276419"
            ]
           ],
           "sequential": [
            [
             0,
             "#0d0887"
            ],
            [
             0.1111111111111111,
             "#46039f"
            ],
            [
             0.2222222222222222,
             "#7201a8"
            ],
            [
             0.3333333333333333,
             "#9c179e"
            ],
            [
             0.4444444444444444,
             "#bd3786"
            ],
            [
             0.5555555555555556,
             "#d8576b"
            ],
            [
             0.6666666666666666,
             "#ed7953"
            ],
            [
             0.7777777777777778,
             "#fb9f3a"
            ],
            [
             0.8888888888888888,
             "#fdca26"
            ],
            [
             1,
             "#f0f921"
            ]
           ],
           "sequentialminus": [
            [
             0,
             "#0d0887"
            ],
            [
             0.1111111111111111,
             "#46039f"
            ],
            [
             0.2222222222222222,
             "#7201a8"
            ],
            [
             0.3333333333333333,
             "#9c179e"
            ],
            [
             0.4444444444444444,
             "#bd3786"
            ],
            [
             0.5555555555555556,
             "#d8576b"
            ],
            [
             0.6666666666666666,
             "#ed7953"
            ],
            [
             0.7777777777777778,
             "#fb9f3a"
            ],
            [
             0.8888888888888888,
             "#fdca26"
            ],
            [
             1,
             "#f0f921"
            ]
           ]
          },
          "colorway": [
           "#636efa",
           "#EF553B",
           "#00cc96",
           "#ab63fa",
           "#FFA15A",
           "#19d3f3",
           "#FF6692",
           "#B6E880",
           "#FF97FF",
           "#FECB52"
          ],
          "font": {
           "color": "#2a3f5f"
          },
          "geo": {
           "bgcolor": "white",
           "lakecolor": "white",
           "landcolor": "#E5ECF6",
           "showlakes": true,
           "showland": true,
           "subunitcolor": "white"
          },
          "hoverlabel": {
           "align": "left"
          },
          "hovermode": "closest",
          "mapbox": {
           "style": "light"
          },
          "paper_bgcolor": "white",
          "plot_bgcolor": "#E5ECF6",
          "polar": {
           "angularaxis": {
            "gridcolor": "white",
            "linecolor": "white",
            "ticks": ""
           },
           "bgcolor": "#E5ECF6",
           "radialaxis": {
            "gridcolor": "white",
            "linecolor": "white",
            "ticks": ""
           }
          },
          "scene": {
           "xaxis": {
            "backgroundcolor": "#E5ECF6",
            "gridcolor": "white",
            "gridwidth": 2,
            "linecolor": "white",
            "showbackground": true,
            "ticks": "",
            "zerolinecolor": "white"
           },
           "yaxis": {
            "backgroundcolor": "#E5ECF6",
            "gridcolor": "white",
            "gridwidth": 2,
            "linecolor": "white",
            "showbackground": true,
            "ticks": "",
            "zerolinecolor": "white"
           },
           "zaxis": {
            "backgroundcolor": "#E5ECF6",
            "gridcolor": "white",
            "gridwidth": 2,
            "linecolor": "white",
            "showbackground": true,
            "ticks": "",
            "zerolinecolor": "white"
           }
          },
          "shapedefaults": {
           "line": {
            "color": "#2a3f5f"
           }
          },
          "ternary": {
           "aaxis": {
            "gridcolor": "white",
            "linecolor": "white",
            "ticks": ""
           },
           "baxis": {
            "gridcolor": "white",
            "linecolor": "white",
            "ticks": ""
           },
           "bgcolor": "#E5ECF6",
           "caxis": {
            "gridcolor": "white",
            "linecolor": "white",
            "ticks": ""
           }
          },
          "title": {
           "x": 0.05
          },
          "xaxis": {
           "automargin": true,
           "gridcolor": "white",
           "linecolor": "white",
           "ticks": "",
           "title": {
            "standoff": 15
           },
           "zerolinecolor": "white",
           "zerolinewidth": 2
          },
          "yaxis": {
           "automargin": true,
           "gridcolor": "white",
           "linecolor": "white",
           "ticks": "",
           "title": {
            "standoff": 15
           },
           "zerolinecolor": "white",
           "zerolinewidth": 2
          }
         }
        }
       }
      },
      "text/html": [
       "<div>\n",
       "        \n",
       "        \n",
       "            <div id=\"9bb41f50-51e2-476c-b380-d4387ff6e3fb\" class=\"plotly-graph-div\" style=\"height:525px; width:100%;\"></div>\n",
       "            <script type=\"text/javascript\">\n",
       "                require([\"plotly\"], function(Plotly) {\n",
       "                    window.PLOTLYENV=window.PLOTLYENV || {};\n",
       "                    \n",
       "                if (document.getElementById(\"9bb41f50-51e2-476c-b380-d4387ff6e3fb\")) {\n",
       "                    Plotly.newPlot(\n",
       "                        '9bb41f50-51e2-476c-b380-d4387ff6e3fb',\n",
       "                        [{\"fill\": \"toself\", \"name\": \"Hip_Hop\", \"r\": [0.7827333333333334, 0.6296842105263158, 0.2200098245614033, 0.14591060350877186, 0.0008955057543859649, 0.15645228070175424, 0.49689298245614044], \"theta\": [\"danceability\", \"energy\", \"speechiness\", \"acousticness\", \"instrumentalness\", \"liveness\", \"valence\"], \"type\": \"scatterpolar\"}, {\"fill\": \"toself\", \"name\": \"Classical\", \"r\": [0.3198700680272108, 0.07673167006802725, 0.04662448979591838, 0.9416268707483001, 0.7483723694897964, 0.12778639455782317, 0.22509999999999997], \"theta\": [\"danceability\", \"energy\", \"speechiness\", \"acousticness\", \"instrumentalness\", \"liveness\", \"valence\"], \"type\": \"scatterpolar\"}],\n",
       "                        {\"polar\": {\"radialaxis\": {\"range\": [0, 1], \"visible\": true}}, \"showlegend\": true, \"template\": {\"data\": {\"bar\": [{\"error_x\": {\"color\": \"#2a3f5f\"}, \"error_y\": {\"color\": \"#2a3f5f\"}, \"marker\": {\"line\": {\"color\": \"#E5ECF6\", \"width\": 0.5}}, \"type\": \"bar\"}], \"barpolar\": [{\"marker\": {\"line\": {\"color\": \"#E5ECF6\", \"width\": 0.5}}, \"type\": \"barpolar\"}], \"carpet\": [{\"aaxis\": {\"endlinecolor\": \"#2a3f5f\", \"gridcolor\": \"white\", \"linecolor\": \"white\", \"minorgridcolor\": \"white\", \"startlinecolor\": \"#2a3f5f\"}, \"baxis\": {\"endlinecolor\": \"#2a3f5f\", \"gridcolor\": \"white\", \"linecolor\": \"white\", \"minorgridcolor\": \"white\", \"startlinecolor\": \"#2a3f5f\"}, \"type\": \"carpet\"}], \"choropleth\": [{\"colorbar\": {\"outlinewidth\": 0, \"ticks\": \"\"}, \"type\": \"choropleth\"}], \"contour\": [{\"colorbar\": {\"outlinewidth\": 0, \"ticks\": \"\"}, \"colorscale\": [[0.0, \"#0d0887\"], [0.1111111111111111, \"#46039f\"], [0.2222222222222222, \"#7201a8\"], [0.3333333333333333, \"#9c179e\"], [0.4444444444444444, \"#bd3786\"], [0.5555555555555556, \"#d8576b\"], [0.6666666666666666, \"#ed7953\"], [0.7777777777777778, \"#fb9f3a\"], [0.8888888888888888, \"#fdca26\"], [1.0, \"#f0f921\"]], \"type\": \"contour\"}], \"contourcarpet\": [{\"colorbar\": {\"outlinewidth\": 0, \"ticks\": \"\"}, \"type\": \"contourcarpet\"}], \"heatmap\": [{\"colorbar\": {\"outlinewidth\": 0, \"ticks\": \"\"}, \"colorscale\": [[0.0, \"#0d0887\"], [0.1111111111111111, \"#46039f\"], [0.2222222222222222, \"#7201a8\"], [0.3333333333333333, \"#9c179e\"], [0.4444444444444444, \"#bd3786\"], [0.5555555555555556, \"#d8576b\"], [0.6666666666666666, \"#ed7953\"], [0.7777777777777778, \"#fb9f3a\"], [0.8888888888888888, \"#fdca26\"], [1.0, \"#f0f921\"]], \"type\": \"heatmap\"}], \"heatmapgl\": [{\"colorbar\": {\"outlinewidth\": 0, \"ticks\": \"\"}, \"colorscale\": [[0.0, \"#0d0887\"], [0.1111111111111111, \"#46039f\"], [0.2222222222222222, \"#7201a8\"], [0.3333333333333333, \"#9c179e\"], [0.4444444444444444, \"#bd3786\"], [0.5555555555555556, \"#d8576b\"], [0.6666666666666666, \"#ed7953\"], [0.7777777777777778, \"#fb9f3a\"], [0.8888888888888888, \"#fdca26\"], [1.0, \"#f0f921\"]], \"type\": \"heatmapgl\"}], \"histogram\": [{\"marker\": {\"colorbar\": {\"outlinewidth\": 0, \"ticks\": \"\"}}, \"type\": \"histogram\"}], \"histogram2d\": [{\"colorbar\": {\"outlinewidth\": 0, \"ticks\": \"\"}, \"colorscale\": [[0.0, \"#0d0887\"], [0.1111111111111111, \"#46039f\"], [0.2222222222222222, \"#7201a8\"], [0.3333333333333333, \"#9c179e\"], [0.4444444444444444, \"#bd3786\"], [0.5555555555555556, \"#d8576b\"], [0.6666666666666666, \"#ed7953\"], [0.7777777777777778, \"#fb9f3a\"], [0.8888888888888888, \"#fdca26\"], [1.0, \"#f0f921\"]], \"type\": \"histogram2d\"}], \"histogram2dcontour\": [{\"colorbar\": {\"outlinewidth\": 0, \"ticks\": \"\"}, \"colorscale\": [[0.0, \"#0d0887\"], [0.1111111111111111, \"#46039f\"], [0.2222222222222222, \"#7201a8\"], [0.3333333333333333, \"#9c179e\"], [0.4444444444444444, \"#bd3786\"], [0.5555555555555556, \"#d8576b\"], [0.6666666666666666, \"#ed7953\"], [0.7777777777777778, \"#fb9f3a\"], [0.8888888888888888, \"#fdca26\"], [1.0, \"#f0f921\"]], \"type\": \"histogram2dcontour\"}], \"mesh3d\": [{\"colorbar\": {\"outlinewidth\": 0, \"ticks\": \"\"}, \"type\": \"mesh3d\"}], \"parcoords\": [{\"line\": {\"colorbar\": {\"outlinewidth\": 0, \"ticks\": \"\"}}, \"type\": \"parcoords\"}], \"pie\": [{\"automargin\": true, \"type\": \"pie\"}], \"scatter\": [{\"marker\": {\"colorbar\": {\"outlinewidth\": 0, \"ticks\": \"\"}}, \"type\": \"scatter\"}], \"scatter3d\": [{\"line\": {\"colorbar\": {\"outlinewidth\": 0, \"ticks\": \"\"}}, \"marker\": {\"colorbar\": {\"outlinewidth\": 0, \"ticks\": \"\"}}, \"type\": \"scatter3d\"}], \"scattercarpet\": [{\"marker\": {\"colorbar\": {\"outlinewidth\": 0, \"ticks\": \"\"}}, \"type\": \"scattercarpet\"}], \"scattergeo\": [{\"marker\": {\"colorbar\": {\"outlinewidth\": 0, \"ticks\": \"\"}}, \"type\": \"scattergeo\"}], \"scattergl\": [{\"marker\": {\"colorbar\": {\"outlinewidth\": 0, \"ticks\": \"\"}}, \"type\": \"scattergl\"}], \"scattermapbox\": [{\"marker\": {\"colorbar\": {\"outlinewidth\": 0, \"ticks\": \"\"}}, \"type\": \"scattermapbox\"}], \"scatterpolar\": [{\"marker\": {\"colorbar\": {\"outlinewidth\": 0, \"ticks\": \"\"}}, \"type\": \"scatterpolar\"}], \"scatterpolargl\": [{\"marker\": {\"colorbar\": {\"outlinewidth\": 0, \"ticks\": \"\"}}, \"type\": \"scatterpolargl\"}], \"scatterternary\": [{\"marker\": {\"colorbar\": {\"outlinewidth\": 0, \"ticks\": \"\"}}, \"type\": \"scatterternary\"}], \"surface\": [{\"colorbar\": {\"outlinewidth\": 0, \"ticks\": \"\"}, \"colorscale\": [[0.0, \"#0d0887\"], [0.1111111111111111, \"#46039f\"], [0.2222222222222222, \"#7201a8\"], [0.3333333333333333, \"#9c179e\"], [0.4444444444444444, \"#bd3786\"], [0.5555555555555556, \"#d8576b\"], [0.6666666666666666, \"#ed7953\"], [0.7777777777777778, \"#fb9f3a\"], [0.8888888888888888, \"#fdca26\"], [1.0, \"#f0f921\"]], \"type\": \"surface\"}], \"table\": [{\"cells\": {\"fill\": {\"color\": \"#EBF0F8\"}, \"line\": {\"color\": \"white\"}}, \"header\": {\"fill\": {\"color\": \"#C8D4E3\"}, \"line\": {\"color\": \"white\"}}, \"type\": \"table\"}]}, \"layout\": {\"annotationdefaults\": {\"arrowcolor\": \"#2a3f5f\", \"arrowhead\": 0, \"arrowwidth\": 1}, \"coloraxis\": {\"colorbar\": {\"outlinewidth\": 0, \"ticks\": \"\"}}, \"colorscale\": {\"diverging\": [[0, \"#8e0152\"], [0.1, \"#c51b7d\"], [0.2, \"#de77ae\"], [0.3, \"#f1b6da\"], [0.4, \"#fde0ef\"], [0.5, \"#f7f7f7\"], [0.6, \"#e6f5d0\"], [0.7, \"#b8e186\"], [0.8, \"#7fbc41\"], [0.9, \"#4d9221\"], [1, \"#276419\"]], \"sequential\": [[0.0, \"#0d0887\"], [0.1111111111111111, \"#46039f\"], [0.2222222222222222, \"#7201a8\"], [0.3333333333333333, \"#9c179e\"], [0.4444444444444444, \"#bd3786\"], [0.5555555555555556, \"#d8576b\"], [0.6666666666666666, \"#ed7953\"], [0.7777777777777778, \"#fb9f3a\"], [0.8888888888888888, \"#fdca26\"], [1.0, \"#f0f921\"]], \"sequentialminus\": [[0.0, \"#0d0887\"], [0.1111111111111111, \"#46039f\"], [0.2222222222222222, \"#7201a8\"], [0.3333333333333333, \"#9c179e\"], [0.4444444444444444, \"#bd3786\"], [0.5555555555555556, \"#d8576b\"], [0.6666666666666666, \"#ed7953\"], [0.7777777777777778, \"#fb9f3a\"], [0.8888888888888888, \"#fdca26\"], [1.0, \"#f0f921\"]]}, \"colorway\": [\"#636efa\", \"#EF553B\", \"#00cc96\", \"#ab63fa\", \"#FFA15A\", \"#19d3f3\", \"#FF6692\", \"#B6E880\", \"#FF97FF\", \"#FECB52\"], \"font\": {\"color\": \"#2a3f5f\"}, \"geo\": {\"bgcolor\": \"white\", \"lakecolor\": \"white\", \"landcolor\": \"#E5ECF6\", \"showlakes\": true, \"showland\": true, \"subunitcolor\": \"white\"}, \"hoverlabel\": {\"align\": \"left\"}, \"hovermode\": \"closest\", \"mapbox\": {\"style\": \"light\"}, \"paper_bgcolor\": \"white\", \"plot_bgcolor\": \"#E5ECF6\", \"polar\": {\"angularaxis\": {\"gridcolor\": \"white\", \"linecolor\": \"white\", \"ticks\": \"\"}, \"bgcolor\": \"#E5ECF6\", \"radialaxis\": {\"gridcolor\": \"white\", \"linecolor\": \"white\", \"ticks\": \"\"}}, \"scene\": {\"xaxis\": {\"backgroundcolor\": \"#E5ECF6\", \"gridcolor\": \"white\", \"gridwidth\": 2, \"linecolor\": \"white\", \"showbackground\": true, \"ticks\": \"\", \"zerolinecolor\": \"white\"}, \"yaxis\": {\"backgroundcolor\": \"#E5ECF6\", \"gridcolor\": \"white\", \"gridwidth\": 2, \"linecolor\": \"white\", \"showbackground\": true, \"ticks\": \"\", \"zerolinecolor\": \"white\"}, \"zaxis\": {\"backgroundcolor\": \"#E5ECF6\", \"gridcolor\": \"white\", \"gridwidth\": 2, \"linecolor\": \"white\", \"showbackground\": true, \"ticks\": \"\", \"zerolinecolor\": \"white\"}}, \"shapedefaults\": {\"line\": {\"color\": \"#2a3f5f\"}}, \"ternary\": {\"aaxis\": {\"gridcolor\": \"white\", \"linecolor\": \"white\", \"ticks\": \"\"}, \"baxis\": {\"gridcolor\": \"white\", \"linecolor\": \"white\", \"ticks\": \"\"}, \"bgcolor\": \"#E5ECF6\", \"caxis\": {\"gridcolor\": \"white\", \"linecolor\": \"white\", \"ticks\": \"\"}}, \"title\": {\"x\": 0.05}, \"xaxis\": {\"automargin\": true, \"gridcolor\": \"white\", \"linecolor\": \"white\", \"ticks\": \"\", \"title\": {\"standoff\": 15}, \"zerolinecolor\": \"white\", \"zerolinewidth\": 2}, \"yaxis\": {\"automargin\": true, \"gridcolor\": \"white\", \"linecolor\": \"white\", \"ticks\": \"\", \"title\": {\"standoff\": 15}, \"zerolinecolor\": \"white\", \"zerolinewidth\": 2}}}},\n",
       "                        {\"responsive\": true}\n",
       "                    ).then(function(){\n",
       "                            \n",
       "var gd = document.getElementById('9bb41f50-51e2-476c-b380-d4387ff6e3fb');\n",
       "var x = new MutationObserver(function (mutations, observer) {{\n",
       "        var display = window.getComputedStyle(gd).display;\n",
       "        if (!display || display === 'none') {{\n",
       "            console.log([gd, 'removed!']);\n",
       "            Plotly.purge(gd);\n",
       "            observer.disconnect();\n",
       "        }}\n",
       "}});\n",
       "\n",
       "// Listen for the removal of the full notebook cells\n",
       "var notebookContainer = gd.closest('#notebook-container');\n",
       "if (notebookContainer) {{\n",
       "    x.observe(notebookContainer, {childList: true});\n",
       "}}\n",
       "\n",
       "// Listen for the clearing of the current output cell\n",
       "var outputEl = gd.closest('.output');\n",
       "if (outputEl) {{\n",
       "    x.observe(outputEl, {childList: true});\n",
       "}}\n",
       "\n",
       "                        })\n",
       "                };\n",
       "                });\n",
       "            </script>\n",
       "        </div>"
      ]
     },
     "metadata": {},
     "output_type": "display_data"
    }
   ],
   "source": [
    "# Compare mean features between two playlists\n",
    "categories = np.array(hh_features.columns)\n",
    "categories = categories[np.array([0,1,5,6,7,8,9])]\n",
    "\n",
    "hh_mean = pd.DataFrame(hh_features.mean()).transpose()\n",
    "cl_mean = pd.DataFrame(cl_features.mean()).transpose()\n",
    "\n",
    "fig = go.Figure()\n",
    "\n",
    "fig.add_trace(go.Scatterpolar(\n",
    "      r=hh_mean.iloc[0,np.r_[0,1,5:10]],\n",
    "      theta=categories,\n",
    "      fill='toself',\n",
    "      name='Hip_Hop',\n",
    "))\n",
    "fig.add_trace(go.Scatterpolar(\n",
    "      r=cl_mean.iloc[0,np.r_[0,1,5:10]],\n",
    "      theta=categories,\n",
    "      fill='toself',\n",
    "      name='Classical'\n",
    "))\n",
    "\n",
    "fig.update_layout(\n",
    "  polar=dict(\n",
    "    radialaxis=dict(\n",
    "      visible=True,\n",
    "      range=[0, 1]\n",
    "    )),\n",
    "  showlegend=True\n",
    ")\n",
    "\n",
    "fig.show()"
   ]
  }
 ],
 "metadata": {
  "colab": {
   "collapsed_sections": [],
   "name": "Spotipy-test.ipynb",
   "provenance": []
  },
  "kernelspec": {
   "display_name": "Python 3",
   "language": "python",
   "name": "python3"
  },
  "language_info": {
   "codemirror_mode": {
    "name": "ipython",
    "version": 3
   },
   "file_extension": ".py",
   "mimetype": "text/x-python",
   "name": "python",
   "nbconvert_exporter": "python",
   "pygments_lexer": "ipython3",
   "version": "3.7.4"
  }
 },
 "nbformat": 4,
 "nbformat_minor": 1
}
